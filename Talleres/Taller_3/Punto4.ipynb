{
 "cells": [
  {
   "cell_type": "code",
   "execution_count": 2,
   "metadata": {},
   "outputs": [],
   "source": [
    "import numpy as np \n",
    "import matplotlib.pyplot as plt\n",
    "from scipy.integrate import solve_ivp"
   ]
  },
  {
   "cell_type": "code",
   "execution_count": 63,
   "metadata": {},
   "outputs": [],
   "source": [
    "def ec_schordinger (x,y,E):\n",
    "    #y es el vector = [f,f´]\n",
    "    f,df= y\n",
    "    ddf = (x**2-2*E)*f\n",
    "    return [df,ddf]"
   ]
  },
  {
   "cell_type": "code",
   "execution_count": null,
   "metadata": {},
   "outputs": [],
   "source": [
    "def evento_convergencia(x, y, E, threshold=12):\n",
    "    # y[0] es f(x)\n",
    "    hipotenusa = np.sqrt(y[0]**2 + y[1]**2)\n",
    "    return threshold - hipotenusa"
   ]
  },
  {
   "cell_type": "code",
   "execution_count": 100,
   "metadata": {},
   "outputs": [],
   "source": [
    "def solve_for_energy(E, x_max=6.0):\n",
    "    y0 = [0.3, 0.0]  # f(0)=1, f'(0)=0 (pares)\n",
    "    x_span = (0, x_max)\n",
    "    \n",
    "    ev_func = lambda x, y: evento_convergencia(x, y, E)\n",
    "    ev_func.terminal = True\n",
    "    ev_func.direction = -1\n",
    "\n",
    "    sol = solve_ivp(\n",
    "        lambda x, y: ec_schordinger(x, y, E),\n",
    "        x_span,\n",
    "        y0,\n",
    "        rtol=1e-7, \n",
    "        atol=1e-9,\n",
    "        events=lambda x, y: evento_convergencia(x, y, E)   \n",
    "    )\n",
    "    \n",
    "    f_at_end = sol.y[0][-1] \n",
    "    event_triggered = (len(sol.t_events[0]) > 0)\n",
    "    return sol, event_triggered\n"
   ]
  },
  {
   "cell_type": "code",
   "execution_count": 96,
   "metadata": {},
   "outputs": [],
   "source": [
    "def solve_for_energy_anti(E, x_max=6.0):\n",
    "    y0 = [0.0, 1.0]  # f(0)=1, f'(0)=0 (pares)\n",
    "    x_span = (0, x_max)\n",
    "    \n",
    "    ev_func = lambda x, y: evento_convergencia(x, y, E)\n",
    "    ev_func.terminal = True\n",
    "    ev_func.direction = -1\n",
    "\n",
    "    sol = solve_ivp(\n",
    "        lambda x, y: ec_schordinger(x, y, E),\n",
    "        x_span,\n",
    "        y0,\n",
    "        rtol=1e-7, \n",
    "        atol=1e-9,\n",
    "        events=lambda x, y: evento_convergencia(x, y, E)   \n",
    "    )\n",
    "    \n",
    "    f_at_end = sol.y[0][-1] \n",
    "    event_triggered = (len(sol.t_events[0]) > 0)\n",
    "    return sol, event_triggered"
   ]
  },
  {
   "cell_type": "code",
   "execution_count": 97,
   "metadata": {},
   "outputs": [
    {
     "name": "stdout",
     "output_type": "stream",
     "text": [
      "[1.5 3.5 5.5 7.5 9.5]\n"
     ]
    }
   ],
   "source": [
    "energies_A = np.arange(0.0, 9.52, 0.1)\n",
    "candidates_A = []  # Aquí se guardarán las energías donde la solución converge\n",
    "\n",
    "for E in energies_A:\n",
    "    sol, event_triggered = solve_for_energy_anti(E)\n",
    "    if not event_triggered:\n",
    "        candidates_A.append(E)\n",
    "\n",
    "candidates_A = np.array(candidates_A)\n",
    "print(candidates_A)"
   ]
  },
  {
   "cell_type": "code",
   "execution_count": 101,
   "metadata": {},
   "outputs": [
    {
     "name": "stdout",
     "output_type": "stream",
     "text": [
      "[0.5 2.5 4.5 6.5 8.5]\n"
     ]
    }
   ],
   "source": [
    "energies = np.arange(0.0, 10.0, 0.1)\n",
    "candidates = []  # Aquí se guardarán las energías donde la solución converge\n",
    "\n",
    "for E in energies:\n",
    "    sol, event_triggered = solve_for_energy(E)\n",
    "    if not event_triggered:\n",
    "        candidates.append(E)\n",
    "\n",
    "candidates = np.array(candidates)\n",
    "print(candidates)"
   ]
  },
  {
   "cell_type": "code",
   "execution_count": null,
   "metadata": {},
   "outputs": [
    {
     "data": {
      "text/plain": [
       "array([0.5, 2.5, 4.5, 6.5, 8.5, 1.5, 3.5, 5.5, 7.5, 9.4, 9.5])"
      ]
     },
     "execution_count": 88,
     "metadata": {},
     "output_type": "execute_result"
    }
   ],
   "source": [
    "candidatos= np.concatenate((candidates,candidates_A))"
   ]
  },
  {
   "cell_type": "code",
   "execution_count": 120,
   "metadata": {},
   "outputs": [
    {
     "data": {
      "text/plain": [
       "<Figure size 600x700 with 0 Axes>"
      ]
     },
     "metadata": {},
     "output_type": "display_data"
    }
   ],
   "source": [
    "plt.figure(figsize=(6,7))\n",
    "x=np.linspace(-6,6,200)\n",
    "plt.plot(x,1/2*x**2,linestyle=\"--\",color=\"lightgray\")\n",
    "\n",
    "for e in candidates:\n",
    "    sol, _ = solve_for_energy(e)\n",
    "    t_negativo = -sol.t[::-1]\n",
    "    y_negativo= sol.y[0][::-1] \n",
    "    t=np.concatenate((t_negativo, sol.t))\n",
    "    E= np.concatenate((y_negativo, sol.y[0]))\n",
    "    E= E+e\n",
    "    plt.axhline(y=e, color='lightgray')\n",
    "    plt.plot(t, E)\n",
    "\n",
    "for r in candidates_A:\n",
    "    sol_a,_= solve_for_energy_anti(r)\n",
    "    t_n = -sol_a.t[::-1]\n",
    "    y_n= -sol_a.y[0][::-1]\n",
    "    t_A= np.concatenate((t_n, sol_a.t))\n",
    "    E_An= np.concatenate((y_n,sol_a.y[0]))\n",
    "    E_An= E_An+r\n",
    "    plt.axhline(y=r, color='lightgray')\n",
    "    plt.plot(t_A,E_An)\n",
    "\n",
    "\n",
    "plt.ylim(0,10)\n",
    "plt.xlim(-6,6)\n",
    "plt.ylabel(\"Energía\")\n",
    "plt.savefig(\"4.pdf\", format=\"pdf\", dpi=300, bbox_inches=\"tight\")\n",
    "plt.clf()"
   ]
  }
 ],
 "metadata": {
  "kernelspec": {
   "display_name": "Python 3",
   "language": "python",
   "name": "python3"
  },
  "language_info": {
   "codemirror_mode": {
    "name": "ipython",
    "version": 3
   },
   "file_extension": ".py",
   "mimetype": "text/x-python",
   "name": "python",
   "nbconvert_exporter": "python",
   "pygments_lexer": "ipython3",
   "version": "3.11.7"
  }
 },
 "nbformat": 4,
 "nbformat_minor": 2
}
