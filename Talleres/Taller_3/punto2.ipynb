{
 "cells": [
  {
   "cell_type": "code",
   "execution_count": 5,
   "metadata": {},
   "outputs": [],
   "source": [
    "import numpy as np\n",
    "import matplotlib.pyplot as plt\n",
    "import matplotlib.animation as animation"
   ]
  },
  {
   "cell_type": "code",
   "execution_count": 6,
   "metadata": {},
   "outputs": [],
   "source": [
    "#Fuerza de Coulbom en unidades atómicas. \n",
    "#Hay que tener en cuenta que para definir la función proporcionada en la guía, se asume ax y ay como -r/|r^{3}| porque la masa se consideracomo uno\n",
    "\n",
    "def f_prime(t,f):\n",
    "    x, y, vx, vy = f\n",
    "\n",
    "    r = np.sqrt(x**2 + y**2)\n",
    "\n",
    "    ax = -x/np.abs(r**3)\n",
    "    ay = -y/np.abs(r**3)\n",
    "\n",
    "    return np.array([vx,vy,ax,ay])"
   ]
  },
  {
   "cell_type": "code",
   "execution_count": 7,
   "metadata": {},
   "outputs": [],
   "source": [
    "#Método Runge Kutta (4to orden)\n",
    "def RK4_step(F,y0,t,dt):\n",
    "    k1 = F(t,y0)\n",
    "    k2 = F( t+dt/2, y0 + dt*k1/2 )\n",
    "    k3 = F( t+dt/2, y0 + dt*k2/2  )\n",
    "    k4 = F( t+dt, y0 + dt*k3  )\n",
    "    return y0 + dt/6 * (k1+2*k2+2*k3+k4)"
   ]
  },
  {
   "cell_type": "code",
   "execution_count": 8,
   "metadata": {},
   "outputs": [],
   "source": [
    "def runge_kutta(F,y_0,ts,dt):\n",
    "\n",
    "    t_v = np.arange(ts[0],ts[1],dt)\n",
    "    y_v = np.zeros((len(t_v),len(y_0)))\n",
    "    y_v[0] =y_0 \n",
    "\n",
    "    for i in range(1, len(t_v)):\n",
    "        t = t_v[i-1]\n",
    "        y_v[i] = RK4_step(F, y_v[i-1], t, dt)\n",
    "\n",
    "    return t_v, y_v\n"
   ]
  },
  {
   "cell_type": "code",
   "execution_count": 9,
   "metadata": {},
   "outputs": [],
   "source": [
    "x0,y0,vx0,vy0 = 1.0,0.0,0.0,1.0\n",
    "condiciones_iniciales= np.array([x0,y0,vx0,vy0])\n",
    "\n",
    "dt = 0.01\n",
    "t_s=(0,10)\n",
    "\n",
    "t_v,y_v = runge_kutta(f_prime,condiciones_iniciales,t_s,dt)\n",
    "\n",
    "\n",
    "#Solucion\n",
    "\n",
    "x_r,y_r,vx_r,vy_r = y_v[:,0],y_v[:,1],y_v[:,2],y_v[:,3]\n"
   ]
  },
  {
   "cell_type": "code",
   "execution_count": 10,
   "metadata": {},
   "outputs": [
    {
     "data": {
      "text/plain": [
       "'\\n#Para comrpobar que la energía es contante sabemos que E = K + U\\nr_d = np.sqrt(x_r**2 + y_r **2)\\n\\nv_2 = vx_r**2 + vy_r**2\\n\\nk = 0.5*v_2\\nu = -1/r_d\\n\\nE = k + u\\nE\\n'"
      ]
     },
     "execution_count": 10,
     "metadata": {},
     "output_type": "execute_result"
    }
   ],
   "source": [
    "\"\"\"\n",
    "#Para comrpobar que la energía es contante sabemos que E = K + U\n",
    "r_d = np.sqrt(x_r**2 + y_r **2)\n",
    "\n",
    "v_2 = vx_r**2 + vy_r**2\n",
    "\n",
    "k = 0.5*v_2\n",
    "u = -1/r_d\n",
    "\n",
    "E = k + u\n",
    "E\n",
    "\"\"\""
   ]
  },
  {
   "cell_type": "code",
   "execution_count": 11,
   "metadata": {},
   "outputs": [
    {
     "name": "stdout",
     "output_type": "stream",
     "text": [
      "2.a) P_teo = 151.98296; P_sim = 151.90592\n"
     ]
    }
   ],
   "source": [
    "#Cálculo teórico y experimental del periodo\n",
    "\n",
    "# Encontrar período simulado midiendo el tiempo entre dos pasos por el mismo punto\n",
    "def periodo_simulacion(tiempo, posiciones):\n",
    "    tiempos_de_cruce = []\n",
    "    for i in range(1, len(posiciones)):\n",
    "        if posiciones[i-1] > 0 and posiciones[i] < 0: \n",
    "            tiempos_de_cruce.append(tiempo[i])\n",
    "    if len(tiempos_de_cruce) >= 2:\n",
    "        return tiempos_de_cruce[1] - tiempos_de_cruce[0]\n",
    "    return None\n",
    "\n",
    "T_sim = (periodo_simulacion(t_v, y_r))*24.18884\n",
    "T_teo = (2 * np.pi)*24.18884  \n",
    "\n",
    "#1 h_barra / E = 24.18884 attosegundos\n",
    "\n",
    "print(f'2.a) P_teo = {T_teo:.5f}; P_sim = {T_sim:.5f}')"
   ]
  },
  {
   "cell_type": "code",
   "execution_count": 12,
   "metadata": {},
   "outputs": [
    {
     "data": {
      "text/plain": [
       "'\"\\nfig, ax = plt.subplots(figsize=(6,6))\\nax.set_xlim(-1.2, 1.2)\\nax.set_ylim(-1.2, 1.2)\\nax.set_xlabel(\\'x (unidades de radio de Bohr)\\')\\nax.set_ylabel(\\'y (unidades de radio de Bohr)\\')\\nax.set_title(\\'Simulación de la órbita del electrón\\')\\nax.grid()\\n\\nline, = ax.plot([], [], \\'b-\\', label=\\'Órbita\\')\\nelectron, = ax.plot([], [], \\'ro\\', label=\\'Electrón\\')\\nax.scatter(0, 0, color=\\'red\\', marker=\\'o\\', label=\\'Protón\\')\\nax.legend()\\n\\ndef update(frame):\\n    line.set_data(x_r[:frame], y_r[:frame])\\n    electron.set_data(x_r[frame], y_r[frame])\\n    return line, electron\\n\\nani = animation.FuncAnimation(fig, update, frames=len(x_r), interval=10, blit=True)\\nani.save(\"2.a.simulation.mp4\", writer=\"ffmpeg\", fps=30)\\n\\nplt.close(fig)  # Cerrar la figura después de guardar la animación\\n'"
      ]
     },
     "execution_count": 12,
     "metadata": {},
     "output_type": "execute_result"
    }
   ],
   "source": [
    "# Crear animación\n",
    "\"\"\"\"\n",
    "fig, ax = plt.subplots(figsize=(6,6))\n",
    "ax.set_xlim(-1.2, 1.2)\n",
    "ax.set_ylim(-1.2, 1.2)\n",
    "ax.set_xlabel('x (unidades de radio de Bohr)')\n",
    "ax.set_ylabel('y (unidades de radio de Bohr)')\n",
    "ax.set_title('Simulación de la órbita del electrón')\n",
    "ax.grid()\n",
    "\n",
    "line, = ax.plot([], [], 'b-', label='Órbita')\n",
    "electron, = ax.plot([], [], 'ro', label='Electrón')\n",
    "ax.scatter(0, 0, color='red', marker='o', label='Protón')\n",
    "ax.legend()\n",
    "\n",
    "def update(frame):\n",
    "    line.set_data(x_r[:frame], y_r[:frame])\n",
    "    electron.set_data(x_r[frame], y_r[frame])\n",
    "    return line, electron\n",
    "\n",
    "ani = animation.FuncAnimation(fig, update, frames=len(x_r), interval=10, blit=True)\n",
    "ani.save(\"2.a.simulation.mp4\", writer=\"ffmpeg\", fps=30)\n",
    "\n",
    "plt.close(fig)  # Cerrar la figura después de guardar la animación\n",
    "\"\"\""
   ]
  },
  {
   "cell_type": "code",
   "execution_count": 13,
   "metadata": {},
   "outputs": [],
   "source": [
    "def f_prime_larmor(t,f):\n",
    "\n",
    "    x, y, vx, vy, a = f\n",
    "\n",
    "    r = np.sqrt(x**2 + y**2)\n",
    "\n",
    "    ax = -x/np.abs(r**3)\n",
    "    ay = -y/np.abs(r**3)\n",
    "\n",
    "    a_m = np.sqrt(ax**2 + ay**2)\n",
    "\n",
    "    return np.array([vx,vy,ax,ay,a_m])\n",
    "\n",
    "    "
   ]
  },
  {
   "cell_type": "code",
   "execution_count": 14,
   "metadata": {},
   "outputs": [],
   "source": [
    "alpha = 137"
   ]
  },
  {
   "cell_type": "code",
   "execution_count": 15,
   "metadata": {},
   "outputs": [],
   "source": [
    "#Método Runge Kutta (4to orden)\n",
    "def RK4_stepl(F,y0,t,dt):\n",
    "    k1 = F(t,y0)\n",
    "    k2 = F( t+dt/2, y0 + dt*k1/2 )\n",
    "    k3 = F( t+dt/2, y0 + dt*k2/2  )\n",
    "    k4 = F( t+dt, y0 + dt*k3  )\n",
    "    y_siguiente = y0 + dt/6 * (k1+2*k2+2*k3+k4)\n",
    "\n",
    "    v_m = np.sqrt(y_siguiente[2]**2 + y_siguiente[3]**2)\n",
    "    a2 = y_siguiente[4] **2\n",
    "\n",
    "    if t > 0:\n",
    "        v_m_nueva = np.sqrt(max(v_m - ((4/3)*(alpha**3) * a2**2 * dt),0))\n",
    "\n",
    "        if v_m > 0:\n",
    "            y_siguiente[2] *= v_m_nueva/ v_m\n",
    "            y_siguiente[3] *= v_m_nueva / v_m\n",
    "    \n",
    "    return y_siguiente"
   ]
  },
  {
   "cell_type": "code",
   "execution_count": 16,
   "metadata": {},
   "outputs": [],
   "source": [
    "def runge_kuttal(F,y_0,ts,dt):\n",
    "\n",
    "    t_v = [ts[0]]\n",
    "    y_v = [y_0] \n",
    "\n",
    "    #El while establece una condicion de que se itere siempe y cuando la distancia al centro del origen sea mayor a 0.01 radios atómicos\n",
    "    while y_v[-1][0]**2 + y_v[-1][1]**2 > 0.01**2 and t_v[-1] < t_s[1]:\n",
    "        t = t_v[-1]\n",
    "        y_next = RK4_stepl(F, y_v[-1], t, dt)\n",
    "        t_v.append(t + dt)\n",
    "        y_v.append(y_next)\n",
    "\n",
    "    return np.array(t_v), np.array(y_v)"
   ]
  },
  {
   "cell_type": "code",
   "execution_count": 17,
   "metadata": {},
   "outputs": [],
   "source": [
    "condiciones_iniciales_l =np.array([x0, y0, vx0, vy0, 0]) \n",
    "t_sl = (0,100)\n",
    "\n",
    "t_vl, y_vl = runge_kuttal(f_prime_larmor, condiciones_iniciales_l, t_sl, dt)"
   ]
  },
  {
   "cell_type": "code",
   "execution_count": 18,
   "metadata": {},
   "outputs": [],
   "source": [
    "xl, yl, vxl, vyl, a_ml = y_vl[:, 0], y_vl[:, 1], y_vl[:, 2], y_vl[:, 3], y_vl[:,4]"
   ]
  },
  {
   "cell_type": "code",
   "execution_count": 19,
   "metadata": {},
   "outputs": [],
   "source": [
    "# Calcular energía en cada instante\n",
    "rl = np.sqrt(xl**2 + yl**2)\n",
    "v2l = vxl**2 + vyl**2\n",
    "Kl = 0.5 * v2l  # Energía cinética\n",
    "Ul = -1 / rl    # Energía potencial\n",
    "El = Kl + Ul     # Energía total\n",
    "\n",
    "# Graficar la energía total, cinética y radio vs tiempo\n",
    "fig, axs = plt.subplots(3, 1, figsize=(8,10))\n",
    "axs[0].plot(t_vl, El, label='Energía Total')\n",
    "axs[1].plot(t_vl, Kl, label='Energía Cinética', color='orange')\n",
    "axs[2].plot(t_vl, rl, label='Radio', color='green')\n",
    "\n",
    "for ax, title in zip(axs, [\"Energía Total\", \"Energía Cinética\", \"Radio\"]):\n",
    "    ax.set_xlabel(\"Tiempo (unidades atómicas)\")\n",
    "    ax.set_ylabel(title)\n",
    "    ax.legend()\n",
    "    ax.grid()\n",
    "\n",
    "plt.savefig(\"2.b.diagnostics.pdf\")  # Guardar la gráfica de diagnósticos\n",
    "plt.close()"
   ]
  }
 ],
 "metadata": {
  "kernelspec": {
   "display_name": "Python 3",
   "language": "python",
   "name": "python3"
  },
  "language_info": {
   "codemirror_mode": {
    "name": "ipython",
    "version": 3
   },
   "file_extension": ".py",
   "mimetype": "text/x-python",
   "name": "python",
   "nbconvert_exporter": "python",
   "pygments_lexer": "ipython3",
   "version": "3.11.7"
  }
 },
 "nbformat": 4,
 "nbformat_minor": 2
}
